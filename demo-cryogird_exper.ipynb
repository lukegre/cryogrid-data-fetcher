{
 "cells": [
  {
   "cell_type": "code",
   "execution_count": 1,
   "metadata": {},
   "outputs": [
    {
     "name": "stderr",
     "output_type": "stream",
     "text": [
      "\u001b[32m2024-09-11 15:27:52\u001b[0m | \u001b[30mVERBOSE \u001b[0m | \u001b[30mLogger level changed to VERBOSE\u001b[0m\n",
      "\u001b[32m2024-09-11 15:27:52\u001b[0m | \u001b[1mINFO    \u001b[0m | \u001b[1mRegistering Dask progress bar\u001b[0m\n"
     ]
    }
   ],
   "source": [
    "%load_ext autoreload\n",
    "%autoreload 2\n",
    "\n",
    "import cryogrid_data_fetcher as cdf"
   ]
  },
  {
   "cell_type": "markdown",
   "metadata": {},
   "source": [
    "## Load configurations"
   ]
  },
  {
   "cell_type": "code",
   "execution_count": 39,
   "metadata": {},
   "outputs": [
    {
     "name": "stderr",
     "output_type": "stream",
     "text": [
      "\u001b[32m2024-09-11 15:52:08\u001b[0m | \u001b[32m\u001b[1mSUCCESS \u001b[0m | \u001b[32m\u001b[1mLoaded request from ./requests/cryogrid_pamir_region.yml\u001b[0m\n",
      "\u001b[32m2024-09-11 15:52:08\u001b[0m | \u001b[30mVERBOSE \u001b[0m | \u001b[30mRequest bbox: [70.0, 37.0, 75.0, 41.0]\u001b[0m\n",
      "\u001b[32m2024-09-11 15:52:08\u001b[0m | \u001b[30mVERBOSE \u001b[0m | \u001b[30mRequest dates: [1960 : 2023]\u001b[0m\n",
      "\u001b[32m2024-09-11 15:52:08\u001b[0m | \u001b[32m\u001b[1mSUCCESS \u001b[0m | \u001b[32m\u001b[1mS3 bucket credentials found in environment variables\u001b[0m\n",
      "\u001b[32m2024-09-11 15:52:08\u001b[0m | \u001b[1mINFO    \u001b[0m | \u001b[1mFound root path: /Users/luke/SDSC/CryoGrid/cryogrid-pamir/abramov\u001b[0m\n",
      "\u001b[32m2024-09-11 15:52:08\u001b[0m | \u001b[1mINFO    \u001b[0m | \u001b[1mLoaded CryoGrid Excel configuration file: /Users/luke/SDSC/CryoGrid/cryogrid-pamir/abramov/experiments/simplest/simplest.xlsx\u001b[0m\n",
      "\u001b[32m2024-09-11 15:52:08\u001b[0m | \u001b[1mINFO    \u001b[0m | \u001b[1mBounding box (WSEN): (71.481314, 39.508578, 72.000418, 39.77)\u001b[0m\n",
      "\u001b[32m2024-09-11 15:52:08\u001b[0m | \u001b[1mINFO    \u001b[0m | \u001b[1mStart and end times: 1970-01-01 - 2020-12-31\u001b[0m\n"
     ]
    }
   ],
   "source": [
    "fname_data_config = './requests/cryogrid_pamir_region.yml'\n",
    "fname_xls_config = '../cryogrid-pamir/abramov/experiments/simplest/simplest.xlsx'\n",
    "\n",
    "experiment_bbox = 71.481314, 39.508578, 72.000418, 39.77\n",
    "\n",
    "data_config = cdf.config.load(fname_data_config)\n",
    "cryogrid_xls = cdf.config.CryoExcel(fname_xls_config, bbox_WSEN=experiment_bbox)"
   ]
  },
  {
   "cell_type": "markdown",
   "metadata": {},
   "source": [
    "## DEM"
   ]
  },
  {
   "cell_type": "code",
   "execution_count": 35,
   "metadata": {},
   "outputs": [
    {
     "name": "stderr",
     "output_type": "stream",
     "text": [
      "\u001b[32m2024-09-11 15:44:53\u001b[0m | \u001b[1mINFO    \u001b[0m | \u001b[1mLoading DEM from s3://spi-pamir-cryogrid/pamir/dem/DEM-cop-dem-glo-30-W7000_S3700_E7500_N4100.zarr\u001b[0m\n"
     ]
    },
    {
     "data": {
      "application/vnd.jupyter.widget-view+json": {
       "model_id": "11aa32f36fcf46189a9d95ff7861b58b",
       "version_major": 2,
       "version_minor": 0
      },
      "text/plain": [
       "Xarray processing:   0%|          | 0/12 [00:00<?, ?it/s]"
      ]
     },
     "metadata": {},
     "output_type": "display_data"
    }
   ],
   "source": [
    "dem = cdf.download_dem_from_planetary_computer(data_config)\n",
    "dem = dem.rio.clip_box(*experiment_bbox, crs='EPSG:4326')\n",
    "\n",
    "dem.rio.to_raster(cryogrid_xls.fname.dem)"
   ]
  },
  {
   "cell_type": "markdown",
   "metadata": {},
   "source": [
    "## Stratigraphy"
   ]
  },
  {
   "cell_type": "code",
   "execution_count": 40,
   "metadata": {},
   "outputs": [
    {
     "data": {
      "application/vnd.jupyter.widget-view+json": {
       "model_id": "fb68479a79124940a8750bdd870c3b99",
       "version_major": 2,
       "version_minor": 0
      },
      "text/plain": [
       "Xarray processing:   0%|          | 0/24 [00:00<?, ?it/s]"
      ]
     },
     "metadata": {},
     "output_type": "display_data"
    }
   ],
   "source": [
    "ds_strat = (\n",
    "    (dem * 0 + 1)  # setting stratigraphy to 1 for simplest case\n",
    "    .astype(int)\n",
    "    .rename(elevation='stratigraphy')\n",
    "    .assign_attrs(\n",
    "        band='stratigraphy',\n",
    "        platform='cryogrid-dummy',\n",
    "        source='manual'))\n",
    "\n",
    "ds_strat.attrs.pop(\"proj:epsg\", None)\n",
    "ds_strat.attrs.pop(\"proj:shape\", None)\n",
    "\n",
    "strat_fname = cryogrid_xls.get_class_filepath('READ_DATASET', index=1)\n",
    "ds_strat.rio.to_raster(strat_fname)"
   ]
  },
  {
   "cell_type": "markdown",
   "metadata": {},
   "source": [
    "## ERA5 Forcing"
   ]
  },
  {
   "cell_type": "code",
   "execution_count": 37,
   "metadata": {},
   "outputs": [
    {
     "name": "stderr",
     "output_type": "stream",
     "text": [
      "\u001b[32m2024-09-11 15:46:01\u001b[0m | \u001b[30mVERBOSE \u001b[0m | \u001b[30mLoading ERA5 data from s3://spi-pamir-cryogrid/pamir/era5/lvl_500_1000\u001b[0m\n"
     ]
    },
    {
     "data": {
      "application/vnd.jupyter.widget-view+json": {
       "model_id": "378e64ba911a45eca83ac4bb29ce5481",
       "version_major": 2,
       "version_minor": 0
      },
      "text/plain": [
       "Downloading S3 files to local cache:   0%|          | 0/769 [00:00<?, ?it/s]"
      ]
     },
     "metadata": {},
     "output_type": "display_data"
    },
    {
     "data": {
      "application/vnd.jupyter.widget-view+json": {
       "model_id": "5fa54a3d7f6340ea958c1624e1b4e4ff",
       "version_major": 2,
       "version_minor": 0
      },
      "text/plain": [
       "Xarray processing:   0%|          | 0/1538 [00:00<?, ?it/s]"
      ]
     },
     "metadata": {},
     "output_type": "display_data"
    },
    {
     "name": "stderr",
     "output_type": "stream",
     "text": [
      "\u001b[32m2024-09-11 15:46:57\u001b[0m | \u001b[30mVERBOSE \u001b[0m | \u001b[30mClipping to bbox (71.481314, 39.508578, 72.000418, 39.77) and years 1970 to 2020\u001b[0m\n"
     ]
    },
    {
     "data": {
      "application/vnd.jupyter.widget-view+json": {
       "model_id": "1641b0028b674a048c56cefdd7cc0a03",
       "version_major": 2,
       "version_minor": 0
      },
      "text/plain": [
       "Xarray processing:   0%|          | 0/25707 [00:00<?, ?it/s]"
      ]
     },
     "metadata": {},
     "output_type": "display_data"
    },
    {
     "name": "stderr",
     "output_type": "stream",
     "text": [
      "\u001b[32m2024-09-11 15:48:44\u001b[0m | \u001b[30mVERBOSE \u001b[0m | \u001b[30mSaving clipped data to /Users/luke/SDSC/CryoGrid/cryogrid-pamir/abramov/forcing/cryogrid-pamir_abramov-era5-1970_2020.nc\u001b[0m\n",
      "\u001b[32m2024-09-11 15:48:52\u001b[0m | \u001b[32m\u001b[1mSUCCESS \u001b[0m | \u001b[32m\u001b[1mSaved ERA5 to /Users/luke/SDSC/CryoGrid/cryogrid-pamir/abramov/forcing/cryogrid-pamir_abramov-era5-1970_2020.mat\u001b[0m\n"
     ]
    },
    {
     "data": {
      "text/plain": [
       "PosixPath('/Users/luke/SDSC/CryoGrid/cryogrid-pamir/abramov/forcing/cryogrid-pamir_abramov-era5-1970_2020.mat')"
      ]
     },
     "execution_count": 37,
     "metadata": {},
     "output_type": "execute_result"
    }
   ],
   "source": [
    "s3_path = data_config.era5.dst_dir_s3 \n",
    "\n",
    "cdf.era5.to_matlab.main(\n",
    "    s3_path, \n",
    "    cryogrid_xls.fname.era5, \n",
    "    bbox_WSEN=cryogrid_xls.bbox_WSEN, \n",
    "    year_start=cryogrid_xls.time.time_start.year, \n",
    "    year_end=cryogrid_xls.time.time_end.year)"
   ]
  },
  {
   "cell_type": "code",
   "execution_count": null,
   "metadata": {},
   "outputs": [],
   "source": []
  }
 ],
 "metadata": {
  "kernelspec": {
   "display_name": "data-sci-v2",
   "language": "python",
   "name": "python3"
  },
  "language_info": {
   "codemirror_mode": {
    "name": "ipython",
    "version": 3
   },
   "file_extension": ".py",
   "mimetype": "text/x-python",
   "name": "python",
   "nbconvert_exporter": "python",
   "pygments_lexer": "ipython3",
   "version": "3.11.8"
  }
 },
 "nbformat": 4,
 "nbformat_minor": 2
}
